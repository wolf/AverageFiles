{
 "cells": [
  {
   "cell_type": "code",
   "execution_count": 5,
   "metadata": {
    "collapsed": true
   },
   "outputs": [],
   "source": [
    "from __future__ import division, print_function\n",
    "\n",
    "import os, sys\n",
    "from collections import Counter\n",
    "from contextlib import contextmanager\n",
    "from subprocess import check_output\n",
    "\n",
    "@contextmanager\n",
    "def use_directory( path=None ):\n",
    "    \"\"\"A Context Manager to change to the given directory for the duration of the 'with' context.\n",
    "    When path is None, don't change directories.\n",
    "    \"\"\"\n",
    "    olddir = os.getcwd()\n",
    "    try:\n",
    "        if path:\n",
    "            os.chdir(path)\n",
    "        yield\n",
    "    finally:\n",
    "        os.chdir(olddir)\n",
    "\n",
    "\n",
    "def all_non_merge_commits( git_dir=None, limit=None ):\n",
    "    \"\"\"a generator yielding 40-hex-digit commit hash strings\"\"\"\n",
    "    args = ['git', 'rev-list', '--all', '--no-merges']\n",
    "    if type(limit)==int:\n",
    "        args += ['-{}'.format(limit)]\n",
    "    with use_directory(git_dir):\n",
    "        out = check_output(args)\n",
    "    for h in out.decode('utf-8').splitlines():\n",
    "        yield h\n",
    "\n",
    "\n",
    "def count_files_committed( git_dir=None, depth=None ):\n",
    "    \"\"\"Return a collections.Counter dictionary where the keys are file-counts and the values\n",
    "    are the number of commits that touched exactly that many files.\n",
    "    \"\"\"\n",
    "    counter = Counter()\n",
    "    with use_directory(git_dir):\n",
    "        for h in all_non_merge_commits(limit=depth):\n",
    "            out = check_output(['git', 'log', '--no-walk', '--format=', '--name-only', h])\n",
    "            num_files_touched = len(out.splitlines())\n",
    "            counter[num_files_touched] += 1\n",
    "    return counter\n",
    "\n",
    "\n",
    "def note_files_committed( git_dir=None, depth=None ):\n",
    "    \"\"\"Return a collections.Counter dictionary where the keys are paths and the values\n",
    "    are the number of commits that touched exactly that many files.\n",
    "    \"\"\"\n",
    "    counter = Counter()\n",
    "    with use_directory(git_dir):\n",
    "        for h in all_non_merge_commits(limit=depth):\n",
    "            out = check_output(['git', 'log', '--no-walk', '--format=', '--name-only', h])\n",
    "            for path in out.decode('utf-8').splitlines():\n",
    "                counter[path] += 1\n",
    "    return counter\n",
    "\n",
    "\n",
    "def average_files_per_commit( counter ):\n",
    "    \"\"\"Given a dictionary as returned by count_files_committed(),\n",
    "    return the average number of files touched per commit.\n",
    "    \"\"\"\n",
    "    total_files = 0\n",
    "    total_commits = 0\n",
    "\n",
    "    for num_files, num_commits in counter.items():\n",
    "        total_files += num_files * num_commits\n",
    "        total_commits += num_commits\n",
    "\n",
    "    return total_files / total_commits\n"
   ]
  },
  {
   "cell_type": "code",
   "execution_count": null,
   "metadata": {
    "collapsed": false
   },
   "outputs": [],
   "source": [
    "counter = note_files_committed('/Users/wolf/Work/Cambium/git-repos/k12.git/')\n",
    "for path, count in counter.most_common(20):\n",
    "    print('{:4} {}'.format(count, path))"
   ]
  },
  {
   "cell_type": "code",
   "execution_count": null,
   "metadata": {
    "collapsed": true
   },
   "outputs": [],
   "source": []
  }
 ],
 "metadata": {
  "kernelspec": {
   "display_name": "Python 2",
   "language": "python",
   "name": "python2"
  },
  "language_info": {
   "codemirror_mode": {
    "name": "ipython",
    "version": 2
   },
   "file_extension": ".py",
   "mimetype": "text/x-python",
   "name": "python",
   "nbconvert_exporter": "python",
   "pygments_lexer": "ipython2",
   "version": "2.7.6"
  }
 },
 "nbformat": 4,
 "nbformat_minor": 0
}
