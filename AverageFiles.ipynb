{
 "cells": [
  {
   "cell_type": "code",
   "execution_count": 5,
   "metadata": {
    "collapsed": true
   },
   "outputs": [],
   "source": [
    "from __future__ import division, print_function\n",
    "\n",
    "import os, sys\n",
    "from collections import Counter\n",
    "from contextlib import contextmanager\n",
    "from subprocess import check_output\n",
    "\n",
    "@contextmanager\n",
    "def use_directory( path=None ):\n",
    "    \"\"\"A Context Manager to change to the given directory for the duration of the 'with' context.\n",
    "    When path is None, don't change directories.\n",
    "    \"\"\"\n",
    "    olddir = os.getcwd()\n",
    "    try:\n",
    "        if path:\n",
    "            os.chdir(path)\n",
    "        yield\n",
    "    finally:\n",
    "        os.chdir(olddir)\n",
    "\n",
    "\n",
    "def all_non_merge_commits( git_dir=None, limit=None ):\n",
    "    \"\"\"a generator yielding 40-hex-digit commit hash strings\"\"\"\n",
    "    args = ['git', 'rev-list', '--all', '--no-merges']\n",
    "    if type(limit)==int:\n",
    "        args += ['-{}'.format(limit)]\n",
    "    with use_directory(git_dir):\n",
    "        out = check_output(args)\n",
    "    for h in out.decode('utf-8').splitlines():\n",
    "        yield h\n",
    "\n",
    "\n",
    "def count_files_committed( git_dir=None, depth=None ):\n",
    "    \"\"\"Return a collections.Counter dictionary where the keys are file-counts and the values\n",
    "    are the number of commits that touched exactly that many files.\n",
    "    \"\"\"\n",
    "    counter = Counter()\n",
    "    with use_directory(git_dir):\n",
    "        for h in all_non_merge_commits(limit=depth):\n",
    "            out = check_output(['git', 'log', '--no-walk', '--format=', '--name-only', h])\n",
    "            num_files_touched = len(out.splitlines())\n",
    "            counter[num_files_touched] += 1\n",
    "    return counter\n",
    "\n",
    "\n",
    "def note_files_committed( git_dir=None, depth=None ):\n",
    "    \"\"\"Return a collections.Counter dictionary where the keys are paths and the values\n",
    "    are the number of commits that touched exactly that many files.\n",
    "    \"\"\"\n",
    "    counter = Counter()\n",
    "    with use_directory(git_dir):\n",
    "        for h in all_non_merge_commits(limit=depth):\n",
    "            out = check_output(['git', 'log', '--no-walk', '--format=', '--name-only', h])\n",
    "            for path in out.decode('utf-8').splitlines():\n",
    "                counter[path] += 1\n",
    "    return counter\n",
    "\n",
    "\n",
    "def average_files_per_commit( counter ):\n",
    "    \"\"\"Given a dictionary as returned by count_files_committed(),\n",
    "    return the average number of files touched per commit.\n",
    "    \"\"\"\n",
    "    total_files = 0\n",
    "    total_commits = 0\n",
    "\n",
    "    for num_files, num_commits in counter.items():\n",
    "        total_files += num_files * num_commits\n",
    "        total_commits += num_commits\n",
    "\n",
    "    return total_files / total_commits\n"
   ]
  },
  {
   "cell_type": "code",
   "execution_count": 16,
   "metadata": {
    "collapsed": false
   },
   "outputs": [
    {
     "name": "stdout",
     "output_type": "stream",
     "text": [
      " 781 lazphp/www/html/objects/library/RKStudentHelpers.class.php\n",
      " 600 lazphp/www/html/objects/tools/raz/RazContentRetriever.class.php\n",
      " 552 lazphp/www/html/raz-kids/main\n",
      " 552 lazphp/www/html/kidsa-z/main\n",
      " 547 lazphp/www/html/objects/config/config.inc.php\n",
      " 542 lazphp/www/html/objects/library/FormHelpers.class.php\n",
      " 539 lazphp/www/html/objects/modules/raz-kids/Roster/RosterModel.class.php\n",
      " 532 lazphp/www/html/objects/modules/raz-kids/ViewReports/ViewReportsModel.class.php\n",
      " 516 tools/cron/k12infra1.crontab\n",
      " 473 lazphp/www/html/raz-kids/content/Roster-manage.html\n",
      " 472 kepler/accountsback/src/com/laz/accountsback/services/LicenseService.java\n",
      " 472 lazphp/www/html/kidsa-z/content/Roster-manage.html\n",
      " 454 lazphp/www/html/readinga-z/webroot/styles/main.css\n",
      " 450 lazphp/www/html/objects/library/RKTeacherHelpers.class.php\n",
      " 428 lazphp/www/html/objects/modules/raz-kids/Roster/Roster.class.php\n",
      " 426 tools/build/build_version.txt\n",
      " 413 lazphp/www/html/objects/modules/raz-kids/MobileRequestService/MobileRequestServiceModel.class.php\n",
      " 403 admin/scut2\n",
      " 402 admin/infra/scut2\n",
      " 401 kepler/accountsback/src/com/laz/accountsback/AccountsEndpoint.java\n"
     ]
    }
   ],
   "source": [
    "counter = note_files_committed('/Users/wolf/Work/Cambium/git-repos/k12.git/')\n",
    "for path, count in counter.most_common(20):\n",
    "    print('{:4} {}'.format(count, path))"
   ]
  },
  {
   "cell_type": "code",
   "execution_count": null,
   "metadata": {
    "collapsed": true
   },
   "outputs": [],
   "source": []
  }
 ],
 "metadata": {
  "kernelspec": {
   "display_name": "Python 3",
   "language": "python",
   "name": "python3"
  },
  "language_info": {
   "codemirror_mode": {
    "name": "ipython",
    "version": 3
   },
   "file_extension": ".py",
   "mimetype": "text/x-python",
   "name": "python",
   "nbconvert_exporter": "python",
   "pygments_lexer": "ipython3",
   "version": "3.5.0a4"
  }
 },
 "nbformat": 4,
 "nbformat_minor": 0
}
